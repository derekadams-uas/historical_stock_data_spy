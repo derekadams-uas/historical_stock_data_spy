{
 "cells": [
  {
   "cell_type": "code",
   "execution_count": 1,
   "metadata": {},
   "outputs": [],
   "source": [
    "import requests\n",
    "import json\n",
    "import pandas as pd\n",
    "from pandas.io.json import json_normalize\n",
    "\n",
    "res = requests.get(\n",
    "    'https://api.worldtradingdata.com/api/v1/history?symbol=SPY&sort=newest&api_token=1PuMQqtLgDksslLmJMFOmxhpkybV4otV3zjyCkFyw7Oy6z1MhbFZwE0G1dKY',)\n",
    "\n",
    "data = res.json()\n",
    "\n",
    "dates = data['history'].items()\n",
    "day_deltas_raw = {}\n",
    "day_deltas_pct = {}\n",
    "day_ranges_raw = {}\n",
    "day_ranges_pct = {}\n",
    "day_volumes = {}\n",
    "\n",
    "for k, v in dates:\n",
    "    date_metrics = dict(v.items())\n",
    "    day_open = float(date_metrics['open'])\n",
    "    day_close = float(date_metrics['close'])\n",
    "    day_high = float(date_metrics['high'])\n",
    "    day_low = float(date_metrics['low'])\n",
    "    day_volume = int(date_metrics['volume'])\n",
    "\n",
    "    day_delta_raw = day_close - day_open\n",
    "    day_delta_pct = day_delta_raw / day_open * 100\n",
    "    day_range_raw = day_high - day_low\n",
    "    day_range_pct = day_range_raw / day_open * 100\n",
    "\n",
    "    day_deltas_raw[k] = day_delta_raw\n",
    "    day_deltas_pct[k] = day_delta_pct\n",
    "    day_ranges_raw[k] = day_range_raw\n",
    "    day_ranges_pct[k] = day_range_pct\n",
    "    day_volumes[k] = day_volume\n",
    "\n",
    "df_day_deltas_raw = pd.DataFrame(\n",
    "    day_deltas_raw.items(), columns=['date', 'delta_raw'])\n",
    "\n",
    "df_day_deltas_pct = pd.DataFrame(\n",
    "    day_deltas_pct.items(), columns=['date', 'delta_pct'])\n",
    "\n",
    "df_day_ranges_raw = pd.DataFrame(\n",
    "    day_ranges_raw.items(), columns=['date', 'range_raw'])\n",
    "\n",
    "df_day_ranges_pct = pd.DataFrame(\n",
    "    day_ranges_raw.items(), columns=['date', 'range_raw'])\n",
    "\n",
    "df_day_volumes = pd.DataFrame(\n",
    "    day_volumes.items(), columns=['date', 'volume'])"
   ]
  },
  {
   "cell_type": "code",
   "execution_count": 2,
   "metadata": {},
   "outputs": [
    {
     "name": "stdout",
     "output_type": "stream",
     "text": [
      "         date  delta_raw\n",
      "0  2020-01-03       1.25\n",
      "1  2020-01-02       1.33\n",
      "2  2019-12-31       1.33\n",
      "         date  delta_pct\n",
      "0  2020-01-03   0.389214\n",
      "1  2020-01-02   0.411077\n",
      "2  2019-12-31   0.414938\n",
      "         date  range_raw\n",
      "0  2020-01-03       2.54\n",
      "1  2020-01-02       2.36\n",
      "2  2019-12-31       1.98\n",
      "         date  range_raw\n",
      "0  2020-01-03       2.54\n",
      "1  2020-01-02       2.36\n",
      "2  2019-12-31       1.98\n",
      "         date    volume\n",
      "0  2020-01-03  63788210\n",
      "1  2020-01-02  59253833\n",
      "2  2019-12-31  57106998\n"
     ]
    }
   ],
   "source": [
    "print(df_day_deltas_raw.head(3))\n",
    "print(df_day_deltas_pct.head(3))\n",
    "print(df_day_ranges_raw.head(3))\n",
    "print(df_day_ranges_pct.head(3))\n",
    "print(df_day_volumes.head(3))"
   ]
  },
  {
   "cell_type": "code",
   "execution_count": null,
   "metadata": {},
   "outputs": [],
   "source": []
  }
 ],
 "metadata": {
  "kernelspec": {
   "display_name": "Python 3",
   "language": "python",
   "name": "python3"
  },
  "language_info": {
   "codemirror_mode": {
    "name": "ipython",
    "version": 3
   },
   "file_extension": ".py",
   "mimetype": "text/x-python",
   "name": "python",
   "nbconvert_exporter": "python",
   "pygments_lexer": "ipython3",
   "version": "3.7.3"
  }
 },
 "nbformat": 4,
 "nbformat_minor": 2
}
