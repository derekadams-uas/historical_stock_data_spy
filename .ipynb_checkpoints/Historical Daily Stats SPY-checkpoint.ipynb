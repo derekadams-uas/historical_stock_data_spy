{
 "cells": [
  {
   "cell_type": "code",
   "execution_count": 1,
   "metadata": {},
   "outputs": [],
   "source": [
    "import requests\n",
    "import json\n",
    "import pandas as pd\n",
    "from pandas.io.json import json_normalize\n",
    "import matplotlib.pyplot as plt\n",
    "import seaborn as sns\n",
    "\n",
    "res = requests.get(\n",
    "    'https://api.worldtradingdata.com/api/v1/history?symbol=SPY&sort=newest&api_token=1PuMQqtLgDksslLmJMFOmxhpkybV4otV3zjyCkFyw7Oy6z1MhbFZwE0G1dKY',)\n",
    "\n",
    "data = res.json()\n",
    "\n",
    "dates = data['history'].items()\n",
    "day_deltas_raw = {}\n",
    "day_deltas_pct = {}\n",
    "day_ranges_raw = {}\n",
    "day_ranges_pct = {}\n",
    "day_volumes = {}\n",
    "\n",
    "for k, v in dates:\n",
    "    date_metrics = dict(v.items())\n",
    "    day_open = float(date_metrics['open'])\n",
    "    day_close = float(date_metrics['close'])\n",
    "    day_high = float(date_metrics['high'])\n",
    "    day_low = float(date_metrics['low'])\n",
    "    day_volume = int(date_metrics['volume'])\n",
    "\n",
    "    day_delta_raw = day_close - day_open\n",
    "    day_delta_pct = day_delta_raw / day_open * 100\n",
    "    day_range_raw = day_high - day_low\n",
    "    day_range_pct = day_range_raw / day_open * 100\n",
    "\n",
    "    day_deltas_raw[k] = day_delta_raw\n",
    "    day_deltas_pct[k] = day_delta_pct\n",
    "    day_ranges_raw[k] = day_range_raw\n",
    "    day_ranges_pct[k] = day_range_pct\n",
    "    day_volumes[k] = day_volume\n",
    "\n",
    "df_day_deltas_raw = pd.DataFrame(day_deltas_raw.items(), columns=['date', 'delta_raw'])\n",
    "df_day_deltas_pct = pd.DataFrame(day_deltas_pct.items(), columns=['date', 'delta_pct'])\n",
    "df_day_ranges_raw = pd.DataFrame(day_ranges_raw.items(), columns=['date', 'range_raw'])\n",
    "df_day_ranges_pct = pd.DataFrame(day_ranges_raw.items(), columns=['date', 'range_raw'])\n",
    "df_day_volumes = pd.DataFrame(day_volumes.items(), columns=['date', 'volume'])\n",
    "\n",
    "df_day_deltas_raw['year'] = df_day_deltas_raw['date'].str[:4]\n",
    "df_day_deltas_pct['year'] = df_day_deltas_pct['date'].str[:4]\n",
    "df_day_ranges_raw['year'] = df_day_ranges_raw['date'].str[:4]\n",
    "df_day_deltas_pct['year'] = df_day_deltas_pct['date'].str[:4]\n",
    "df_day_volumes['year'] = df_day_volumes['date'].str[:4]\n"
   ]
  },
  {
   "cell_type": "code",
   "execution_count": 2,
   "metadata": {},
   "outputs": [
    {
     "name": "stdout",
     "output_type": "stream",
     "text": [
      "         date  delta_raw\n",
      "0  2020-01-03       1.25\n",
      "1  2020-01-02       1.33\n",
      "2  2019-12-31       1.33\n",
      "         date  delta_pct\n",
      "0  2020-01-03   0.389214\n",
      "1  2020-01-02   0.411077\n",
      "2  2019-12-31   0.414938\n",
      "         date  range_raw\n",
      "0  2020-01-03       2.54\n",
      "1  2020-01-02       2.36\n",
      "2  2019-12-31       1.98\n",
      "         date  range_raw\n",
      "0  2020-01-03       2.54\n",
      "1  2020-01-02       2.36\n",
      "2  2019-12-31       1.98\n",
      "         date    volume\n",
      "0  2020-01-03  63788210\n",
      "1  2020-01-02  59253833\n",
      "2  2019-12-31  57106998\n"
     ]
    }
   ],
   "source": [
    "print(df_day_deltas_raw.head(3))\n",
    "print(df_day_deltas_pct.head(3))\n",
    "print(df_day_ranges_raw.head(3))\n",
    "print(df_day_ranges_pct.head(3))\n",
    "print(df_day_volumes.head(3))"
   ]
  },
  {
   "cell_type": "code",
   "execution_count": 3,
   "metadata": {},
   "outputs": [
    {
     "data": {
      "text/html": [
       "<div>\n",
       "<style scoped>\n",
       "    .dataframe tbody tr th:only-of-type {\n",
       "        vertical-align: middle;\n",
       "    }\n",
       "\n",
       "    .dataframe tbody tr th {\n",
       "        vertical-align: top;\n",
       "    }\n",
       "\n",
       "    .dataframe thead th {\n",
       "        text-align: right;\n",
       "    }\n",
       "</style>\n",
       "<table border=\"1\" class=\"dataframe\">\n",
       "  <thead>\n",
       "    <tr style=\"text-align: right;\">\n",
       "      <th></th>\n",
       "      <th>delta_raw</th>\n",
       "    </tr>\n",
       "  </thead>\n",
       "  <tbody>\n",
       "    <tr>\n",
       "      <th>count</th>\n",
       "      <td>6756.000000</td>\n",
       "    </tr>\n",
       "    <tr>\n",
       "      <th>mean</th>\n",
       "      <td>0.000410</td>\n",
       "    </tr>\n",
       "    <tr>\n",
       "      <th>std</th>\n",
       "      <td>1.245137</td>\n",
       "    </tr>\n",
       "    <tr>\n",
       "      <th>min</th>\n",
       "      <td>-10.380000</td>\n",
       "    </tr>\n",
       "    <tr>\n",
       "      <th>25%</th>\n",
       "      <td>-0.500000</td>\n",
       "    </tr>\n",
       "    <tr>\n",
       "      <th>50%</th>\n",
       "      <td>0.050000</td>\n",
       "    </tr>\n",
       "    <tr>\n",
       "      <th>75%</th>\n",
       "      <td>0.590000</td>\n",
       "    </tr>\n",
       "    <tr>\n",
       "      <th>max</th>\n",
       "      <td>10.210000</td>\n",
       "    </tr>\n",
       "  </tbody>\n",
       "</table>\n",
       "</div>"
      ],
      "text/plain": [
       "         delta_raw\n",
       "count  6756.000000\n",
       "mean      0.000410\n",
       "std       1.245137\n",
       "min     -10.380000\n",
       "25%      -0.500000\n",
       "50%       0.050000\n",
       "75%       0.590000\n",
       "max      10.210000"
      ]
     },
     "execution_count": 3,
     "metadata": {},
     "output_type": "execute_result"
    }
   ],
   "source": [
    "df_day_deltas_raw.describe()"
   ]
  },
  {
   "cell_type": "code",
   "execution_count": 4,
   "metadata": {},
   "outputs": [
    {
     "data": {
      "text/plain": [
       "<matplotlib.axes._subplots.AxesSubplot at 0x18bf649cd68>"
      ]
     },
     "execution_count": 4,
     "metadata": {},
     "output_type": "execute_result"
    },
    {
     "data": {
      "image/png": "[encoded data removed]",
      "text/plain": [
       "<Figure size 432x288 with 1 Axes>"
      ]
     },
     "metadata": {
      "needs_background": "light"
     },
     "output_type": "display_data"
    }
   ],
   "source": [
    "sns.distplot(df_day_deltas_raw['delta_raw'])"
   ]
  },
  {
   "cell_type": "code",
   "execution_count": 5,
   "metadata": {},
   "outputs": [
    {
     "data": {
      "text/html": [
       "<div>\n",
       "<style scoped>\n",
       "    .dataframe tbody tr th:only-of-type {\n",
       "        vertical-align: middle;\n",
       "    }\n",
       "\n",
       "    .dataframe tbody tr th {\n",
       "        vertical-align: top;\n",
       "    }\n",
       "\n",
       "    .dataframe thead th {\n",
       "        text-align: right;\n",
       "    }\n",
       "</style>\n",
       "<table border=\"1\" class=\"dataframe\">\n",
       "  <thead>\n",
       "    <tr style=\"text-align: right;\">\n",
       "      <th></th>\n",
       "      <th>delta_pct</th>\n",
       "    </tr>\n",
       "  </thead>\n",
       "  <tbody>\n",
       "    <tr>\n",
       "      <th>count</th>\n",
       "      <td>6756.000000</td>\n",
       "    </tr>\n",
       "    <tr>\n",
       "      <th>mean</th>\n",
       "      <td>0.004508</td>\n",
       "    </tr>\n",
       "    <tr>\n",
       "      <th>std</th>\n",
       "      <td>0.963295</td>\n",
       "    </tr>\n",
       "    <tr>\n",
       "      <th>min</th>\n",
       "      <td>-8.990568</td>\n",
       "    </tr>\n",
       "    <tr>\n",
       "      <th>25%</th>\n",
       "      <td>-0.411411</td>\n",
       "    </tr>\n",
       "    <tr>\n",
       "      <th>50%</th>\n",
       "      <td>0.042571</td>\n",
       "    </tr>\n",
       "    <tr>\n",
       "      <th>75%</th>\n",
       "      <td>0.453282</td>\n",
       "    </tr>\n",
       "    <tr>\n",
       "      <th>max</th>\n",
       "      <td>9.291301</td>\n",
       "    </tr>\n",
       "  </tbody>\n",
       "</table>\n",
       "</div>"
      ],
      "text/plain": [
       "         delta_pct\n",
       "count  6756.000000\n",
       "mean      0.004508\n",
       "std       0.963295\n",
       "min      -8.990568\n",
       "25%      -0.411411\n",
       "50%       0.042571\n",
       "75%       0.453282\n",
       "max       9.291301"
      ]
     },
     "execution_count": 5,
     "metadata": {},
     "output_type": "execute_result"
    }
   ],
   "source": [
    "df_day_deltas_pct.describe()"
   ]
  },
  {
   "cell_type": "code",
   "execution_count": 9,
   "metadata": {},
   "outputs": [
    {
     "data": {
      "text/plain": [
       "<matplotlib.axes._subplots.AxesSubplot at 0x18bff39c4a8>"
      ]
     },
     "execution_count": 9,
     "metadata": {},
     "output_type": "execute_result"
    },
    {
     "data": {
      "image/png": "[encoded data removed]",
      "text/plain": [
       "<Figure size 432x288 with 1 Axes>"
      ]
     },
     "metadata": {
      "needs_background": "light"
     },
     "output_type": "display_data"
    }
   ],
   "source": [
    "sns.distplot(df_day_deltas_pct['delta_pct'])"
   ]
  },
  {
   "cell_type": "code",
   "execution_count": 12,
   "metadata": {},
   "outputs": [
    {
     "data": {
      "image/png": "[encoded data removed]",
      "text/plain": [
       "<Figure size 432x288 with 1 Axes>"
      ]
     },
     "metadata": {
      "needs_background": "light"
     },
     "output_type": "display_data"
    }
   ],
   "source": [
    "ax = sns.boxplot(x=df_day_deltas_pct['delta_pct'])"
   ]
  },
  {
   "cell_type": "code",
   "execution_count": 16,
   "metadata": {},
   "outputs": [
    {
     "name": "stdout",
     "output_type": "stream",
     "text": [
      "         date  delta_raw  year\n",
      "0  2020-01-03       1.25  2020\n",
      "1  2020-01-02       1.33  2020\n",
      "2  2019-12-31       1.33  2019\n"
     ]
    }
   ],
   "source": [
    "df_day_deltas_raw['year'] = df_day_deltas_raw['date'].str[:4]\n",
    "print(df_day_deltas_raw.head(3))"
   ]
  },
  {
   "cell_type": "code",
   "execution_count": null,
   "metadata": {},
   "outputs": [],
   "source": []
  }
 ],
 "metadata": {
  "kernelspec": {
   "display_name": "Python 3",
   "language": "python",
   "name": "python3"
  },
  "language_info": {
   "codemirror_mode": {
    "name": "ipython",
    "version": 3
   },
   "file_extension": ".py",
   "mimetype": "text/x-python",
   "name": "python",
   "nbconvert_exporter": "python",
   "pygments_lexer": "ipython3",
   "version": "3.7.3"
  }
 },
 "nbformat": 4,
 "nbformat_minor": 2
}
