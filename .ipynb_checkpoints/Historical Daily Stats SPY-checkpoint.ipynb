{
 "cells": [
  {
   "cell_type": "code",
   "execution_count": 2,
   "metadata": {},
   "outputs": [],
   "source": [
    "import requests\n",
    "import json\n",
    "import pandas\n",
    "\n",
    "res = requests.get(\n",
    "    'https://api.worldtradingdata.com/api/v1/history?symbol=SPY&sort=newest&api_token=1PuMQqtLgDksslLmJMFOmxhpkybV4otV3zjyCkFyw7Oy6z1MhbFZwE0G1dKY',)\n",
    "\n",
    "data = res.json()\n",
    "\n",
    "dates = data['history'].items()\n",
    "day_deltas_raw = {}\n",
    "day_deltas_pct = {}\n",
    "day_ranges_raw = {}\n",
    "day_ranges_pct = {}\n",
    "day_volumes = {}\n",
    "\n",
    "for k, v in dates:\n",
    "    date_metrics = dict(v.items())\n",
    "    day_open = float(date_metrics['open'])\n",
    "    day_close = float(date_metrics['close'])\n",
    "    day_high = float(date_metrics['high'])\n",
    "    day_low = float(date_metrics['low'])\n",
    "    day_volume = int(date_metrics['volume'])\n",
    "\n",
    "    day_delta_raw = day_close - day_open\n",
    "    day_delta_pct = day_delta_raw / day_open * 100\n",
    "    day_range_raw = day_high - day_low\n",
    "    day_range_pct = day_range_raw / day_open * 100\n",
    "\n",
    "    day_deltas_raw[k] = day_delta_raw\n",
    "    day_deltas_pct[k] = day_delta_pct\n",
    "    day_ranges_raw[k] = day_range_raw\n",
    "    day_ranges_pct[k] = day_range_pct\n",
    "    day_volumes[k] = day_volume\n",
    "\n"
   ]
  },
  {
   "cell_type": "code",
   "execution_count": null,
   "metadata": {},
   "outputs": [],
   "source": []
  }
 ],
 "metadata": {
  "kernelspec": {
   "display_name": "Python 3",
   "language": "python",
   "name": "python3"
  },
  "language_info": {
   "codemirror_mode": {
    "name": "ipython",
    "version": 3
   },
   "file_extension": ".py",
   "mimetype": "text/x-python",
   "name": "python",
   "nbconvert_exporter": "python",
   "pygments_lexer": "ipython3",
   "version": "3.7.3"
  }
 },
 "nbformat": 4,
 "nbformat_minor": 2
}
